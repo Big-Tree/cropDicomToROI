{
 "cells": [
  {
   "cell_type": "code",
   "execution_count": null,
   "metadata": {
    "ExecuteTime": {
     "end_time": "2018-07-19T10:42:26.895656Z",
     "start_time": "2018-07-19T10:42:26.577916Z"
    }
   },
   "outputs": [],
   "source": [
    "import matplotlib.pyplot as plt\n",
    "plt.plot([1,2,3,4], [1,4,9,16], 'ro') # Your original list\n",
    "plt.plot(5, 25, 'go')                 # Additional point\n",
    "plt.plot(6, 36, 'yo')                 # Additional point\n",
    "plt.axis([0, 10, 0, 40])              # Modified axis\n",
    "plt.show()"
   ]
  },
  {
   "cell_type": "code",
   "execution_count": 1,
   "metadata": {
    "ExecuteTime": {
     "end_time": "2018-07-19T12:24:24.426793Z",
     "start_time": "2018-07-19T11:28:00.842100Z"
    }
   },
   "outputs": [
    {
     "name": "stdout",
     "output_type": "stream",
     "text": [
      "Started...\n",
      "1488  Malignant found\n",
      "MY_ERROR: key not found:\n",
      " 1.2.840.113681.2229460924.948.3513224549.627\n",
      "1487 DICOM images extracted\n",
      "(3062, 2394)\n",
      "(2294, 1914)\n",
      "(2294, 1914)\n"
     ]
    }
   ],
   "source": [
    "import glob\n",
    "import pandas as pd\n",
    "import pydicom\n",
    "import os\n",
    "import matplotlib.pyplot as plt\n",
    "\n",
    "print('Started...')\n",
    "\n",
    "# Load dicom files into np array\n",
    "\n",
    "malignant = np.array([])\n",
    "dicomImg = {'malignant':np.array([]), 'normal':np.array([])}\n",
    "count = 0\n",
    "fMal = glob.glob('/vol/vssp/mammo2/will/data/dcm/malignant/*')\n",
    "print(len(fMal), ' Malignant found')\n",
    "for f in fMal:\n",
    "    dicomImg['malignant'] = np.append(dicomImg['malignant'], pydicom.dcmread(f))\n",
    "    count += 1\n",
    "#     print(count, '/', len(fMal))\n",
    "# fNorm = glob.glob('/vol/vssp/mammo2/will/data/dcm/normal/*')\n",
    "# print(len(fNorm), ' Normal found')\n",
    "# count = 0\n",
    "# for f in fNorm:\n",
    "#     dicomImg['normal'] = np.append(dicomImg['normal'], pydicom.dcmread(f))\n",
    "#     count += 1\n",
    "#     print(count, '/', len(fNorm))\n",
    "\n",
    "# Import xls file\n",
    "xls = pd.ExcelFile('/vol/vssp/mammo2/will/data/batch_50_IMAGE.xls')\n",
    "sheet = xls.parse(1)\n",
    "\n",
    "\n",
    "# Create a dict where the key is the image name\n",
    "# Each key has the image, and coords\n",
    "img = {}\n",
    "for i in range(len(fMal)):\n",
    "    key = os.path.basename(fMal[i])[:-4]\n",
    "    # Find row in the xml file that holds the img info\n",
    "    try:\n",
    "        indx = [_==key for _ in sheet['ReferencedSOPInstanceUID']].index(True)\n",
    "        img.update({key:{}})\n",
    "        img[key].update({'img': dicomImg['malignant'][i].pixel_array})\n",
    "        img[key].update({'x': [sheet['X1'][indx], sheet['X2'][indx]]})\n",
    "        img[key].update({'y': [sheet['Y1'][indx], sheet['Y2'][indx]]})\n",
    "    except ValueError:\n",
    "        print('MY_ERROR: key not found:\\n', key)\n",
    "        \n",
    "print(len(img), 'DICOM images extracted')\n",
    "# print(img)\n",
    "print(img['1.2.840.113619.2.227.2079195738.2772140709111020.85']['img'].shape)\n",
    "print(img['1.2.840.113619.2.227.2079243250246.1888121022134218.77']['img'].shape)\n",
    "print(img['1.2.840.113619.2.227.2079243250246.1888121022134534.85']['img'].shape)\n",
    "# Crop the images to ROI\n",
    "for key in img:\n",
    "    tmp = img[key]['img']\n",
    "    x = img[key]['x']\n",
    "    y = img[key]['y']\n",
    "    #x is width, y is height\n",
    "    #in numpy array, y,x\n",
    "    img[key].update({'crop':tmp[y[0]:y[1], x[0]:x[1]]}) \n",
    "    \n",
    "img_calc = img['1.2.840.113619.2.227.2079243250246.1888121022134218.77'] \n",
    "\n",
    "for key in img:\n",
    "    plt.figure(figsize=(20,20))\n",
    "    marker = [(img[key]['x'][1] + img[key]['x'][0])/2, (img[key]['y'][1] + img[key]['y'][0])/2 ]   \n",
    "    plt.imshow(img[key]['img']/16383, cmap='gray', vmin=0, vmax=0.2)\n",
    "    plt.plot(marker[0], marker[1], marker='x', color=[1,0,1], markersize=30)\n",
    "    plt.savefig('./marked/' + key +'_full.png')\n",
    "    #plt.show()\n",
    "    plt.close()\n",
    "    \n",
    "    plt.figure(figsize=(20,20))\n",
    "    plt.imshow(img[key]['crop'], cmap='gray') \n",
    "    plt.savefig('./marked/' + key +'_crop.png')   \n",
    "    #plt.show()\n",
    "    plt.close()\n",
    "    #break\n",
    "# Crop images to ROI\n",
    "\n",
    "\n",
    "\n",
    "\n"
   ]
  },
  {
   "cell_type": "code",
   "execution_count": 37,
   "metadata": {
    "ExecuteTime": {
     "end_time": "2018-07-18T19:50:19.938038Z",
     "start_time": "2018-07-18T19:50:19.929978Z"
    }
   },
   "outputs": [
    {
     "name": "stdout",
     "output_type": "stream",
     "text": [
      "hello world\n"
     ]
    }
   ],
   "source": [
    "print('hello world')"
   ]
  },
  {
   "cell_type": "code",
   "execution_count": null,
   "metadata": {
    "ExecuteTime": {
     "end_time": "2018-07-18T16:24:15.819953Z",
     "start_time": "2018-07-18T16:24:15.803263Z"
    }
   },
   "outputs": [],
   "source": [
    "import pydicom\n",
    "from pydicom.data import get_testdata_files\n",
    "x = np.array([])\n",
    "filename = get_testdata_files(\"MR_small.dcm\")[0]\n",
    "ds = pydicom.dcmread(filename)\n",
    "print(ds.pixel_array.shape)\n"
   ]
  },
  {
   "cell_type": "code",
   "execution_count": null,
   "metadata": {},
   "outputs": [],
   "source": []
  }
 ],
 "metadata": {
  "kernelspec": {
   "display_name": "Python 3",
   "language": "python",
   "name": "python3"
  },
  "language_info": {
   "codemirror_mode": {
    "name": "ipython",
    "version": 3
   },
   "file_extension": ".py",
   "mimetype": "text/x-python",
   "name": "python",
   "nbconvert_exporter": "python",
   "pygments_lexer": "ipython3",
   "version": "3.6.5"
  },
  "varInspector": {
   "cols": {
    "lenName": 16,
    "lenType": 16,
    "lenVar": 40
   },
   "kernels_config": {
    "python": {
     "delete_cmd_postfix": "",
     "delete_cmd_prefix": "del ",
     "library": "var_list.py",
     "varRefreshCmd": "print(var_dic_list())"
    },
    "r": {
     "delete_cmd_postfix": ") ",
     "delete_cmd_prefix": "rm(",
     "library": "var_list.r",
     "varRefreshCmd": "cat(var_dic_list()) "
    }
   },
   "types_to_exclude": [
    "module",
    "function",
    "builtin_function_or_method",
    "instance",
    "_Feature"
   ],
   "window_display": false
  }
 },
 "nbformat": 4,
 "nbformat_minor": 2
}
